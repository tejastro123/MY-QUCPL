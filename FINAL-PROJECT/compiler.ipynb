{
 "cells": [
  {
   "cell_type": "code",
   "execution_count": 2,
   "id": "2a485400",
   "metadata": {},
   "outputs": [
    {
     "name": "stdout",
     "output_type": "stream",
     "text": [
      "IR saved to bell_ir.json\n"
     ]
    }
   ],
   "source": [
    "import json\n",
    "\n",
    "def flatten(lst):\n",
    "    if isinstance(lst, list):\n",
    "        result = []\n",
    "        for item in lst:\n",
    "            if isinstance(item, list):\n",
    "                result.extend(flatten(item))\n",
    "            else:\n",
    "                result.append(item)\n",
    "        return result\n",
    "    return [lst]\n",
    "\n",
    "def compile_stmt(stmt):\n",
    "    stype = stmt[\"type\"]\n",
    "\n",
    "    if stype == \"QubitDecl\":\n",
    "        return (\"qubits\", flatten(stmt[\"qubits\"]))\n",
    "\n",
    "    elif stype == \"QuantumOp\":\n",
    "        return {\n",
    "            \"op\": stmt[\"gate\"],\n",
    "            \"args\": flatten(stmt[\"qubits\"])\n",
    "        }\n",
    "\n",
    "    elif stype == \"Measure\":\n",
    "        return {\n",
    "            \"op\": \"measure\",\n",
    "            \"qubits\": flatten(stmt[\"qubits\"]),\n",
    "            \"classical\": flatten(stmt[\"classical\"])\n",
    "        }\n",
    "\n",
    "    elif stype == \"Print\":\n",
    "        return {\n",
    "            \"op\": \"print\",\n",
    "            \"args\": flatten(stmt[\"args\"])\n",
    "        }\n",
    "\n",
    "    elif stype == \"If\":\n",
    "        return {\n",
    "            \"type\": \"if\",\n",
    "            \"condition\": stmt[\"condition\"],\n",
    "            \"then\": [compile_stmt(stmt[\"then\"])],\n",
    "            \"else\": [compile_stmt(stmt[\"else\"])] if stmt[\"else\"] else []\n",
    "        }\n",
    "\n",
    "    else:\n",
    "        raise ValueError(f\"Unknown statement type: {stype}\")\n",
    "\n",
    "def ast_to_ir(ast):\n",
    "    ir = {\n",
    "        \"type\": \"Program\",\n",
    "        \"qubits\": [],\n",
    "        \"instructions\": [],\n",
    "        \"control_flow\": []\n",
    "    }\n",
    "\n",
    "    for stmt in ast[\"body\"]:\n",
    "        compiled = compile_stmt(stmt)\n",
    "        if isinstance(compiled, tuple) and compiled[0] == \"qubits\":\n",
    "            ir[\"qubits\"].extend(compiled[1])\n",
    "        elif isinstance(compiled, dict) and \"op\" in compiled:\n",
    "            ir[\"instructions\"].append(compiled)\n",
    "        elif isinstance(compiled, dict) and \"type\" in compiled:\n",
    "            ir[\"control_flow\"].append(compiled)\n",
    "\n",
    "    return ir\n",
    "\n",
    "if __name__ == \"__main__\":\n",
    "    with open(\"bell_ast.json\") as f:\n",
    "        ast = json.load(f)\n",
    "\n",
    "    ir = ast_to_ir(ast)\n",
    "\n",
    "    with open(\"bell_ir.json\", \"w\") as f:\n",
    "        json.dump(ir, f, indent=2)\n",
    "\n",
    "    print(\"IR saved to bell_ir.json\")"
   ]
  },
  {
   "cell_type": "code",
   "execution_count": null,
   "id": "2c63e4ba",
   "metadata": {},
   "outputs": [],
   "source": []
  }
 ],
 "metadata": {
  "kernelspec": {
   "display_name": "Python 3",
   "language": "python",
   "name": "python3"
  },
  "language_info": {
   "codemirror_mode": {
    "name": "ipython",
    "version": 3
   },
   "file_extension": ".py",
   "mimetype": "text/x-python",
   "name": "python",
   "nbconvert_exporter": "python",
   "pygments_lexer": "ipython3",
   "version": "3.13.5"
  }
 },
 "nbformat": 4,
 "nbformat_minor": 5
}
