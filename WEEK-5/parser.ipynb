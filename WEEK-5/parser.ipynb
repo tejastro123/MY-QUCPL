{
 "cells": [
  {
   "cell_type": "code",
   "execution_count": 2,
   "id": "9fe7a3cf",
   "metadata": {},
   "outputs": [
    {
     "name": "stdout",
     "output_type": "stream",
     "text": [
      "Enter your QuCPL code (end with a blank line):\n"
     ]
    },
    {
     "name": "stdout",
     "output_type": "stream",
     "text": [
      "AST saved to ast2.json\n"
     ]
    }
   ],
   "source": [
    "from lark import Lark, Transformer, v_args\n",
    "import json\n",
    "\n",
    "with open(\"grammar4.lark\") as f:\n",
    "    grammar = f.read()\n",
    "\n",
    "parser = Lark(grammar, parser='lalr', start='start')\n",
    "\n",
    "@v_args(inline=True)\n",
    "class ASTBuilder(Transformer):\n",
    "    def start(self, *stmts): return {\"type\": \"Program\", \"body\": list(stmts)}\n",
    "\n",
    "    def qubit_decl(self, *ids): return {\"type\": \"QubitDecl\", \"qubits\": list(ids)}\n",
    "    def qop_stmt(self, gate, *args): return {\"type\": \"QuantumOp\", \"gate\": gate, \"qubits\": list(args)}\n",
    "    def measure_stmt(self, *args): \n",
    "        mid = len(args) // 2\n",
    "        return {\"type\": \"Measure\", \"qubits\": list(args[:mid]), \"classical\": list(args[mid:])}\n",
    "    def print_stmt(self, *args): return {\"type\": \"Print\", \"args\": list(args)}\n",
    "\n",
    "    def if_stmt(self, cond, if_block, else_block=None):\n",
    "        return {\n",
    "            \"type\": \"If\",\n",
    "            \"condition\": cond,\n",
    "            \"then\": if_block,\n",
    "            \"else\": else_block if else_block else None\n",
    "        }\n",
    "\n",
    "    def while_stmt(self, cond, body):\n",
    "        return {\n",
    "            \"type\": \"While\",\n",
    "            \"condition\": cond,\n",
    "            \"body\": body\n",
    "        }\n",
    "\n",
    "    def condition(self, var, val):\n",
    "        return {\"type\": \"Condition\", \"var\": var, \"value\": int(val)}\n",
    "\n",
    "    def id_list(self, *args): return list(args)\n",
    "    def GATE_NAME(self, token): return str(token)\n",
    "    def CNAME(self, token): return str(token)\n",
    "    def INT(self, token): return int(token)\n",
    "\n",
    "    def stmt(self, *args): return args[0]\n",
    "    def stmt__(self, *args): return list(args)\n",
    "\n",
    "def parse_qucpl(source_code):\n",
    "    tree = parser.parse(source_code)\n",
    "    return ASTBuilder().transform(tree)\n",
    "\n",
    "if __name__ == \"__main__\":\n",
    "    print(\"Enter your QuCPL code (end with a blank line):\")\n",
    "    lines = []\n",
    "    while True:\n",
    "        line = input()\n",
    "        if line.strip() == \"\":\n",
    "            break\n",
    "        lines.append(line)\n",
    "    code = \"\\n\".join(lines)\n",
    "\n",
    "    try:\n",
    "        ast = parse_qucpl(code)\n",
    "        with open(\"ghz.json\", \"w\") as f:\n",
    "            json.dump(ast, f, indent=2)\n",
    "        print(\"AST saved to ast2.json\")\n",
    "    except Exception as e:\n",
    "        print(\"Error during parsing:\", e)\n",
    "\n"
   ]
  },
  {
   "cell_type": "code",
   "execution_count": null,
   "id": "0185cacb",
   "metadata": {},
   "outputs": [],
   "source": []
  }
 ],
 "metadata": {
  "kernelspec": {
   "display_name": "Python 3",
   "language": "python",
   "name": "python3"
  },
  "language_info": {
   "codemirror_mode": {
    "name": "ipython",
    "version": 3
   },
   "file_extension": ".py",
   "mimetype": "text/x-python",
   "name": "python",
   "nbconvert_exporter": "python",
   "pygments_lexer": "ipython3",
   "version": "3.13.5"
  }
 },
 "nbformat": 4,
 "nbformat_minor": 5
}
