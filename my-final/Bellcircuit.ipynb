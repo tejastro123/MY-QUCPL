{
 "cells": [
  {
   "cell_type": "markdown",
   "id": "e1668500",
   "metadata": {},
   "source": [
    "Generating All Four Bell States with Qiskit\n",
    "This notebook explores the creation of all four maximally entangled Bell states using Qiskit. Bell states are a cornerstone of quantum information theory, used in phenomena like quantum teleportation and superdense coding.\n",
    "\n",
    "Each Bell state is a superposition of two basis states, and they form an orthonormal basis for a two-qubit system."
   ]
  },
  {
   "cell_type": "code",
   "execution_count": null,
   "id": "093ac856",
   "metadata": {},
   "outputs": [],
   "source": []
  },
  {
   "cell_type": "markdown",
   "id": "b576d824",
   "metadata": {},
   "source": [
    "1. Importing Necessary Libraries\n",
    "We start by importing all the modules required for building and simulating quantum circuits, and for displaying their outputs effectively in the notebook."
   ]
  },
  {
   "cell_type": "code",
   "execution_count": 7,
   "id": "a26ca69d",
   "metadata": {},
   "outputs": [],
   "source": [
    "%matplotlib inline\n",
    "import numpy as np\n",
    "from qiskit import QuantumCircuit, transpile\n",
    "from qiskit.visualization import plot_bloch_multivector\n",
    "from qiskit_aer import AerSimulator\n",
    "from qiskit.quantum_info import Statevector\n",
    "from IPython.display import display # For explicit display of outputs\n",
    "import matplotlib.pyplot as plt # For closing matplotlib figures\n",
    "\n",
    "# Helper function to run and display results for each circuit\n",
    "def simulate_and_display(qc):\n",
    "    print(f\"\\n---  Circuit Diagram ---\")\n",
    "    fig = qc.draw('mpl')\n",
    "    display(fig)\n",
    "    plt.close(fig) # Close the figure to prevent implicit re-rendering\n",
    "\n",
    "    print(f\"\\n---  Simulated Statevector ---\")\n",
    "    simulator = AerSimulator()\n",
    "    compiled_circuit = transpile(qc, simulator)\n",
    "    job = simulator.run(compiled_circuit)\n",
    "    result = job.result()\n",
    "    statevector = result.get_statevector()\n",
    "\n",
    "    display(statevector.draw('latex'))  \n",
    "       "
   ]
  },
  {
   "cell_type": "markdown",
   "id": "a302ae78",
   "metadata": {},
   "source": [
    "2. The Phi-plus Bell State\n",
    "\n",
    "\n",
    "To create this state from an initial ∣00⟩ state, we apply:\n",
    "\n",
    "a) Hadamard (H) gate on qubit 0 to put it into a superposition.\n",
    "b) Controlled-NOT (CX) gate with qubit 0 as control and qubit 1 as target to entangle the qubits."
   ]
  },
  {
   "cell_type": "code",
   "execution_count": 8,
   "id": "dc71a2af",
   "metadata": {},
   "outputs": [
    {
     "name": "stdout",
     "output_type": "stream",
     "text": [
      "\n",
      "---  Circuit Diagram ---\n"
     ]
    },
    {
     "data": {
      "image/png": "[encoded data removed]",
      "text/plain": [
       "<Figure size 538.128x200.667 with 1 Axes>"
      ]
     },
     "metadata": {},
     "output_type": "display_data"
    },
    {
     "name": "stdout",
     "output_type": "stream",
     "text": [
      "\n",
      "---  Simulated Statevector ---\n"
     ]
    },
    {
     "data": {
      "text/latex": [
       "$$\\frac{\\sqrt{2}}{2} |00\\rangle+\\frac{\\sqrt{2}}{2} |11\\rangle$$"
      ],
      "text/plain": [
       "<IPython.core.display.Latex object>"
      ]
     },
     "metadata": {},
     "output_type": "display_data"
    }
   ],
   "source": [
    "# Create circuit for Phi+\n",
    "qc_phi_plus = QuantumCircuit(2)\n",
    "qc_phi_plus.h(0)\n",
    "qc_phi_plus.cx(0, 1)\n",
    "qc_phi_plus.save_statevector()\n",
    "\n",
    "simulate_and_display(qc_phi_plus)"
   ]
  },
  {
   "cell_type": "markdown",
   "id": "a61ac60e",
   "metadata": {},
   "source": [
    "3. The Phi-minus Bell State\n",
    "\n",
    "​\n",
    "To create this state from an initial ∣00⟩ state, we can first create phi-plus and then apply a Z-gate on qubit 1.\n",
    "\n",
    "a) Hadamard (H) gate on qubit 0.\n",
    "b) Controlled-NOT (CX) gate with qubit 0 as control and qubit 1 as target.\n",
    "c) Phase (Z) gate on qubit 1."
   ]
  },
  {
   "cell_type": "code",
   "execution_count": 9,
   "id": "cdd94925",
   "metadata": {},
   "outputs": [
    {
     "name": "stdout",
     "output_type": "stream",
     "text": [
      "\n",
      "---  Circuit Diagram ---\n"
     ]
    },
    {
     "data": {
      "image/png": "[encoded data removed]",
      "text/plain": [
       "<Figure size 621.739x200.667 with 1 Axes>"
      ]
     },
     "metadata": {},
     "output_type": "display_data"
    },
    {
     "name": "stdout",
     "output_type": "stream",
     "text": [
      "\n",
      "---  Simulated Statevector ---\n"
     ]
    },
    {
     "data": {
      "text/latex": [
       "$$\\frac{\\sqrt{2}}{2} |00\\rangle- \\frac{\\sqrt{2}}{2} |11\\rangle$$"
      ],
      "text/plain": [
       "<IPython.core.display.Latex object>"
      ]
     },
     "metadata": {},
     "output_type": "display_data"
    }
   ],
   "source": [
    "# Create circuit for Phi-\n",
    "qc_phi_minus = QuantumCircuit(2)\n",
    "qc_phi_minus.h(0)\n",
    "qc_phi_minus.cx(0, 1)\n",
    "qc_phi_minus.z(1) \n",
    "qc_phi_minus.save_statevector()\n",
    "simulate_and_display(qc_phi_minus)\n"
   ]
  },
  {
   "cell_type": "markdown",
   "id": "aeabe1da",
   "metadata": {},
   "source": [
    "4. The Psi-plus Bell State\n",
    "\n",
    "To create this state from an initial ∣00⟩ state:\n",
    "\n",
    "a) Pauli-X (X) gate on qubit 1 to change its state to ∣1⟩, resulting in ∣01⟩.\n",
    "b) Hadamard (H) gate on qubit 0.\n",
    "c) Controlled-NOT (CX) gate with qubit 0 as control and qubit 1 as target."
   ]
  },
  {
   "cell_type": "code",
   "execution_count": 11,
   "id": "5b495206",
   "metadata": {},
   "outputs": [
    {
     "name": "stdout",
     "output_type": "stream",
     "text": [
      "\n",
      "---  Circuit Diagram ---\n"
     ]
    },
    {
     "data": {
      "image/png": "[encoded data removed]",
      "text/plain": [
       "<Figure size 538.128x200.667 with 1 Axes>"
      ]
     },
     "metadata": {},
     "output_type": "display_data"
    },
    {
     "name": "stdout",
     "output_type": "stream",
     "text": [
      "\n",
      "---  Simulated Statevector ---\n"
     ]
    },
    {
     "data": {
      "text/latex": [
       "$$\\frac{\\sqrt{2}}{2} |01\\rangle+\\frac{\\sqrt{2}}{2} |10\\rangle$$"
      ],
      "text/plain": [
       "<IPython.core.display.Latex object>"
      ]
     },
     "metadata": {},
     "output_type": "display_data"
    }
   ],
   "source": [
    "# Create circuit for Psi+\n",
    "qc_psi_plus = QuantumCircuit(2)\n",
    "qc_psi_plus.x(1) \n",
    "qc_psi_plus.h(0)\n",
    "qc_psi_plus.cx(0, 1)\n",
    "qc_psi_plus.save_statevector()\n",
    "simulate_and_display(qc_psi_plus)"
   ]
  },
  {
   "cell_type": "markdown",
   "id": "c90a70aa",
   "metadata": {},
   "source": [
    "5. The psi-minus Bell State\n",
    "\n",
    "To create this state from an initial ∣00⟩ state, we can first create psi-plus and then apply a Z-gate on qubit 1.\n",
    "\n",
    "a) Pauli-X (X) gate on qubit 1 (initial state becomes ∣01⟩).\n",
    "b) Hadamard (H) gate on qubit 0.\n",
    "c) Controlled-NOT (CX) gate with qubit 0 as control and qubit 1 as target.\n",
    "d) Phase (Z) gate on qubit 1."
   ]
  },
  {
   "cell_type": "code",
   "execution_count": 12,
   "id": "3ba8e73e",
   "metadata": {},
   "outputs": [
    {
     "name": "stdout",
     "output_type": "stream",
     "text": [
      "\n",
      "---  Circuit Diagram ---\n"
     ]
    },
    {
     "data": {
      "image/png": "[encoded data removed]",
      "text/plain": [
       "<Figure size 621.739x200.667 with 1 Axes>"
      ]
     },
     "metadata": {},
     "output_type": "display_data"
    },
    {
     "name": "stdout",
     "output_type": "stream",
     "text": [
      "\n",
      "---  Simulated Statevector ---\n"
     ]
    },
    {
     "data": {
      "text/latex": [
       "$$\\frac{\\sqrt{2}}{2} |01\\rangle- \\frac{\\sqrt{2}}{2} |10\\rangle$$"
      ],
      "text/plain": [
       "<IPython.core.display.Latex object>"
      ]
     },
     "metadata": {},
     "output_type": "display_data"
    }
   ],
   "source": [
    "# Create circuit for Psi-\n",
    "qc_psi_minus = QuantumCircuit(2)\n",
    "qc_psi_minus.x(1) \n",
    "qc_psi_minus.h(0)\n",
    "qc_psi_minus.cx(0, 1)\n",
    "qc_psi_minus.z(1) \n",
    "qc_psi_minus.save_statevector()\n",
    "simulate_and_display(qc_psi_minus)\n"
   ]
  },
  {
   "cell_type": "markdown",
   "id": "92972917",
   "metadata": {},
   "source": [
    "CONCLUSION\n",
    "\n",
    "This notebook has demonstrated how to create a bell circuit by using basic quantum gates in Qiskit. It shows  different entangled states in which it can exist and each state is visualized with circuit diagram and confirmed by simulating state vector."
   ]
  }
 ],
 "metadata": {
  "kernelspec": {
   "display_name": "Python 3",
   "language": "python",
   "name": "python3"
  },
  "language_info": {
   "codemirror_mode": {
    "name": "ipython",
    "version": 3
   },
   "file_extension": ".py",
   "mimetype": "text/x-python",
   "name": "python",
   "nbconvert_exporter": "python",
   "pygments_lexer": "ipython3",
   "version": "3.13.5"
  }
 },
 "nbformat": 4,
 "nbformat_minor": 5
}
