{
 "cells": [
  {
   "cell_type": "code",
   "execution_count": 3,
   "id": "76804ca6",
   "metadata": {},
   "outputs": [
    {
     "name": "stdout",
     "output_type": "stream",
     "text": [
      "PRINT: q2\n"
     ]
    },
    {
     "data": {
      "image/png": "[encoded data removed]",
      "text/plain": [
       "<Figure size 538.33x367.889 with 1 Axes>"
      ]
     },
     "metadata": {},
     "output_type": "display_data"
    }
   ],
   "source": [
    "%matplotlib inline\n",
    "import json\n",
    "import matplotlib.pyplot as plt\n",
    "from qiskit import QuantumCircuit\n",
    "\n",
    "def visualize_circuit(ir, title):\n",
    "    qubits = ir[\"qubits\"]\n",
    "    instructions = ir[\"instructions\"]\n",
    "\n",
    "    num_qubits = len(qubits)\n",
    "    classical_bits = sorted(set(c for instr in instructions if instr[\"op\"] == \"measure\" for c in instr.get(\"classical\", [])))\n",
    "    \n",
    "    qc = QuantumCircuit(num_qubits, len(classical_bits))\n",
    "    qmap = {q: i for i, q in enumerate(qubits)}\n",
    "    cmap = {c: i for i, c in enumerate(classical_bits)}\n",
    "\n",
    "    for instr in instructions:\n",
    "        op = instr[\"op\"]\n",
    "        try:\n",
    "            args = instr.get(\"args\", [])\n",
    "            if op == \"h\":\n",
    "                qc.h(qmap[args[0]])\n",
    "            elif op == \"x\":\n",
    "                qc.x(qmap[args[0]])\n",
    "            elif op == \"y\":\n",
    "                qc.y(qmap[args[0]])\n",
    "            elif op == \"z\":\n",
    "                qc.z(qmap[args[0]])\n",
    "            elif op == \"cx\":\n",
    "                qc.cx(qmap[args[0]], qmap[args[1]])\n",
    "            elif op == \"cy\":\n",
    "                qc.cy(qmap[args[0]], qmap[args[1]])\n",
    "            elif op == \"cz\":\n",
    "                qc.cz(qmap[args[0]], qmap[args[1]])\n",
    "            elif op == \"ccx\":\n",
    "                qc.ccx(qmap[args[0]], qmap[args[1]], qmap[args[2]])\n",
    "            elif op == \"swap\":\n",
    "                qc.swap(qmap[args[0]], qmap[args[1]])\n",
    "            elif op == \"measure\":\n",
    "                for q, c in zip(instr[\"qubits\"], instr[\"classical\"]):\n",
    "                    qc.measure(qmap[q], cmap[c])\n",
    "            elif op == \"print\":\n",
    "                print(\"PRINT:\", \", \".join(args))\n",
    "            else:\n",
    "                print(f\"Unknown op '{op}' in instruction: {instr}\")\n",
    "        except Exception as e:\n",
    "            print(f\"Error processing {op}: {e} in {instr}\")\n",
    "\n",
    "    fig = qc.draw(\"mpl\")\n",
    "    fig.suptitle(title)\n",
    "    plt.show()\n",
    "\n",
    "if __name__ == \"__main__\":\n",
    "    with open(\"teleportation_ir.json\") as f:\n",
    "        teleport_ir = json.load(f)\n",
    "\n",
    "    visualize_circuit(teleport_ir, \"Quantum Teleportation\")\n"
   ]
  },
  {
   "cell_type": "code",
   "execution_count": null,
   "id": "e5821f9f",
   "metadata": {},
   "outputs": [],
   "source": []
  }
 ],
 "metadata": {
  "kernelspec": {
   "display_name": "Python 3",
   "language": "python",
   "name": "python3"
  },
  "language_info": {
   "codemirror_mode": {
    "name": "ipython",
    "version": 3
   },
   "file_extension": ".py",
   "mimetype": "text/x-python",
   "name": "python",
   "nbconvert_exporter": "python",
   "pygments_lexer": "ipython3",
   "version": "3.13.5"
  }
 },
 "nbformat": 4,
 "nbformat_minor": 5
}
