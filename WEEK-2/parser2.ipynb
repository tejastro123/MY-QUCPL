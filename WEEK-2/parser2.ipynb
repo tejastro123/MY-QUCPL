{
 "cells": [
  {
   "cell_type": "code",
   "execution_count": 1,
   "id": "d3eebd8a",
   "metadata": {},
   "outputs": [
    {
     "name": "stdout",
     "output_type": "stream",
     "text": [
      "Enter your QuCPL code (end with a blank line):\n",
      "AST saved to ast.json\n"
     ]
    }
   ],
   "source": [
    "# parser.py\n",
    "from lark import Lark, Transformer, v_args\n",
    "import json\n",
    "\n",
    "with open(\"grammar2.lark\") as f:\n",
    "    grammar = f.read()\n",
    "\n",
    "parser = Lark(grammar, parser='lalr', start='start')\n",
    "\n",
    "@v_args(inline=True)\n",
    "class ASTBuilder(Transformer):\n",
    "    def start(self, *stmts): return {\"type\": \"Program\", \"body\": list(stmts)}\n",
    "\n",
    "    def qubit_decl(self, *ids): return {\"type\": \"QubitDecl\", \"qubits\": list(ids)}\n",
    "    def qop_stmt(self, gate, *args): return {\"type\": \"QuantumOp\", \"gate\": gate, \"qubits\": list(args)}\n",
    "    def measure_stmt(self, *args): \n",
    "        mid = len(args) // 2\n",
    "        return {\"type\": \"Measure\", \"qubits\": list(args[:mid]), \"classical\": list(args[mid:])}\n",
    "    def print_stmt(self, *args): return {\"type\": \"Print\", \"args\": list(args)}\n",
    "\n",
    "    def id_list(self, *args): return list(args)\n",
    "    def GATE_NAME(self, token): return str(token)\n",
    "    def CNAME(self, token): return str(token)\n",
    "\n",
    "def parse_qucpl(source_code):\n",
    "    tree = parser.parse(source_code)\n",
    "    return ASTBuilder().transform(tree)\n",
    "\n",
    "if __name__ == \"__main__\":\n",
    "    print(\"Enter your QuCPL code (end with a blank line):\")\n",
    "    lines = []\n",
    "    while True:\n",
    "        line = input()\n",
    "        if line.strip() == \"\":\n",
    "            break\n",
    "        lines.append(line)\n",
    "    code = \"\\n\".join(lines)\n",
    "\n",
    "    try:\n",
    "        ast = parse_qucpl(code)\n",
    "        with open(\"ast2.json\", \"w\") as f:\n",
    "            json.dump(ast, f, indent=2)\n",
    "        print(\"AST saved to ast.json\")\n",
    "    except Exception as e:\n",
    "        print(\"Error during parsing:\", e)\n"
   ]
  }
 ],
 "metadata": {
  "kernelspec": {
   "display_name": "Python 3",
   "language": "python",
   "name": "python3"
  },
  "language_info": {
   "codemirror_mode": {
    "name": "ipython",
    "version": 3
   },
   "file_extension": ".py",
   "mimetype": "text/x-python",
   "name": "python",
   "nbconvert_exporter": "python",
   "pygments_lexer": "ipython3",
   "version": "3.13.5"
  }
 },
 "nbformat": 4,
 "nbformat_minor": 5
}
